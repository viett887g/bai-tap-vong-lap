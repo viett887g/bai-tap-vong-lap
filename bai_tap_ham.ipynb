{
  "nbformat": 4,
  "nbformat_minor": 0,
  "metadata": {
    "colab": {
      "name": "bai_tap_ham.ipynb",
      "provenance": [],
      "authorship_tag": "ABX9TyP9t04ewdF6BYEA0Pb6oATw",
      "include_colab_link": true
    },
    "kernelspec": {
      "name": "python3",
      "display_name": "Python 3"
    },
    "language_info": {
      "name": "python"
    }
  },
  "cells": [
    {
      "cell_type": "markdown",
      "metadata": {
        "id": "view-in-github",
        "colab_type": "text"
      },
      "source": [
        "<a href=\"https://colab.research.google.com/github/viett887g/bai-tap-vong-lap/blob/main/bai_tap_ham.ipynb\" target=\"_parent\"><img src=\"https://colab.research.google.com/assets/colab-badge.svg\" alt=\"Open In Colab\"/></a>"
      ]
    },
    {
      "cell_type": "code",
      "metadata": {
        "id": "AmR-l0LsIfnD"
      },
      "source": [
        "Hãy xây dựng một hàm thực hiện các yêu cầu sau:\n",
        "- Xuất ra màn hình câu thông báo: “Lập trình Java 2021”\n",
        "- Hàm không có giá trị trả về"
      ],
      "execution_count": null,
      "outputs": []
    },
    {
      "cell_type": "code",
      "metadata": {
        "colab": {
          "base_uri": "https://localhost:8080/"
        },
        "id": "4SxDftY6xKwV",
        "outputId": "4d0cc61b-71dd-41be-a191-cd330aa62e61"
      },
      "source": [
        "def acid():\n",
        "  print('lap trình java 2021')\n",
        "acid()"
      ],
      "execution_count": null,
      "outputs": [
        {
          "output_type": "stream",
          "name": "stdout",
          "text": [
            "lap trình java 2021\n"
          ]
        }
      ]
    },
    {
      "cell_type": "code",
      "metadata": {
        "id": "wjO9PjaTIjhg"
      },
      "source": [
        "Hãy xây dựng một hàm thực hiện các yêu cầu sau:\n",
        "- Nhận một tham số đầu vào là một chuỗi ký tự (kiểu String)\n",
        "- Xuất ra màn hình nội dung chuỗi được truyền vào từ tham số\n",
        "- Hàm không có giá trị trả về"
      ],
      "execution_count": null,
      "outputs": []
    },
    {
      "cell_type": "code",
      "metadata": {
        "id": "rMUkqui8xgkS",
        "colab": {
          "base_uri": "https://localhost:8080/"
        },
        "outputId": "144b277d-78fe-416c-e8fa-7c42f3b63ac3"
      },
      "source": [
        "def bazo(ture):\n",
        "  print(ture)\n",
        "ture=str(input(\"nhap noi dung vao\"))\n",
        "bazo(ture)\n",
        "\n"
      ],
      "execution_count": 28,
      "outputs": [
        {
          "output_type": "stream",
          "name": "stdout",
          "text": [
            "nhap noi dung vaoqk;weqw\n",
            "qk;weqw\n"
          ]
        }
      ]
    },
    {
      "cell_type": "code",
      "metadata": {
        "id": "r9_e3NOKInif"
      },
      "source": [
        "Hãy viết chương trình thực hiện các yêu cầu sau:\n",
        "- Nhập một số nguyên dương n từ bàn phím (kiểm tra nếu không đạt yêu cầu thì bắt nhập\n",
        "lại)\n",
        "- Nhập một thông điệp từ bàn phím\n",
        "- Gọi thực hiện hàm ở Bài 2 n lần với thông điệp được truyền làm tham số đầu vào của hàm."
      ],
      "execution_count": null,
      "outputs": []
    },
    {
      "cell_type": "code",
      "metadata": {
        "id": "F4g-oIzW1DkA",
        "colab": {
          "base_uri": "https://localhost:8080/"
        },
        "outputId": "d09372e5-7edd-4e8b-dad1-8bd0188831f1"
      },
      "source": [
        "n= int(input(\"hay nhap vao\"))\n",
        "if n>0:\n",
        "  print(n)\n",
        "else:\n",
        "  print(\"hay nhap lai\")"
      ],
      "execution_count": 22,
      "outputs": [
        {
          "output_type": "stream",
          "name": "stdout",
          "text": [
            "hay nhap vao6\n",
            "6\n"
          ]
        }
      ]
    },
    {
      "cell_type": "code",
      "metadata": {
        "id": "WgfpoUckKpAH"
      },
      "source": [
        "Hãy viết chương trình thực hiện các yêu cầu sau:\n",
        "- Xây dựng hàm giải phương trình bậc 1 (ax + b = 0), với hệ số a & b được truyền vào qua\n",
        "thông số của hàm.\n",
        "- Chương trình chính nhận các thông số a, b từ bàn phím\n",
        "- Chương trình chính gọi hàm giải phương trình bậc 1 nêu trên"
      ],
      "execution_count": null,
      "outputs": []
    },
    {
      "cell_type": "code",
      "metadata": {
        "colab": {
          "base_uri": "https://localhost:8080/"
        },
        "id": "UuPuVwFNKyIL",
        "outputId": "30ad4edf-277d-486d-dbbd-1db1df640880"
      },
      "source": [
        "a= int(input(\"nhap vao mot so\"))\n",
        "b= int(input(\"nhap vao mot so\"))\n",
        "def kali(a,b):\n",
        " while a!=0 and b!=0:\n",
        "  if a==0:\n",
        "      print(\"phuong trinh vo nghiem\")\n",
        "  elif a!=0:\n",
        "    x=-b/a\n",
        "    return x\n",
        "  else:\n",
        "    print(\"phuong trinh vo nghiem\")\n",
        "kali(a,b)\n"
      ],
      "execution_count": 53,
      "outputs": [
        {
          "name": "stdout",
          "output_type": "stream",
          "text": [
            "nhap vao mot so6\n",
            "nhap vao mot so3\n"
          ]
        },
        {
          "output_type": "execute_result",
          "data": {
            "text/plain": [
              "-0.5"
            ]
          },
          "metadata": {},
          "execution_count": 53
        }
      ]
    },
    {
      "cell_type": "code",
      "metadata": {
        "id": "98XPAgLdOaAa"
      },
      "source": [
        "Hãy viết chương trình thực hiện các yêu cầu sau:\n",
        "- Xây dựng hàm giải phương trình bậc (ax2 + bx + c = 0), với hệ số a & b & c được truyền\n",
        "vào qua thông số của hàm.\n",
        "- Chương trình chính nhận các thông số a, b & c từ bàn phím\n",
        "- Chương trình chính gọi hàm giải phương trình bậc 2 nêu trên"
      ],
      "execution_count": null,
      "outputs": []
    },
    {
      "cell_type": "code",
      "metadata": {
        "colab": {
          "base_uri": "https://localhost:8080/"
        },
        "id": "Db_BmfQaObWl",
        "outputId": "f80010cc-4399-43de-933c-4474553cbd0a"
      },
      "source": [
        "import math\n",
        "a=int(input(\"nhap vao mot so\"))\n",
        "b=int(input(\"nhap vao mot so\"))\n",
        "c=int(input(\"nhap vao mot so\"))\n",
        "def photpho(a,b,c):\n",
        "  if a==0:\n",
        "    x=-c/b\n",
        "    return x\n",
        "  elif a!=0:\n",
        "    lamda = b**2-4*a*c\n",
        "    if lamda ==0:\n",
        "     x=-b/(2*a)\n",
        "     return x\n",
        "    if lamda<0:\n",
        "        print(\"phuong trinh vo nghiem\")\n",
        "    if lamda>0:\n",
        "      x1 = (-b + lamda)/ (2*a)\n",
        "      x2= (-b - lamda)/ (2*a)\n",
        "      return (x1,x2)\n",
        "  if a==0 and b==0:\n",
        "      print(\"phuong trinh vo nghiem\")\n",
        "  if a==0 and b==0 and c==0:\n",
        "      print(\"phuong trinh vo so nghiem\")\n",
        "photpho(a,b,c)\n"
      ],
      "execution_count": 134,
      "outputs": [
        {
          "name": "stdout",
          "output_type": "stream",
          "text": [
            "nhap vao mot so2\n",
            "nhap vao mot so5\n",
            "nhap vao mot so3\n"
          ]
        },
        {
          "output_type": "execute_result",
          "data": {
            "text/plain": [
              "(-1.0, -1.5)"
            ]
          },
          "metadata": {},
          "execution_count": 134
        }
      ]
    },
    {
      "cell_type": "code",
      "metadata": {
        "id": "VMebKO3OV8TG"
      },
      "source": [
        "Cho người dùng lựa chọn giải phương trình bậc 1 hay bậc 2 bằng cách nhập số (1 hay 2)\n",
        "từ bàn phím\n",
        "- Nếu người dùng chọn giải phương trình bậc 1, thì thực hiện các bước như Bài 4\n",
        "- Nếu người dùng chọn giải phương trình bậc 2, thì thực hiện các bước như Bài 5"
      ],
      "execution_count": null,
      "outputs": []
    },
    {
      "cell_type": "code",
      "metadata": {
        "colab": {
          "base_uri": "https://localhost:8080/"
        },
        "id": "fSa356WMWA3X",
        "outputId": "4fdda404-45c2-4f1f-8615-0d373cbda2d2"
      },
      "source": [
        "import math\n",
        "z= int(input(\"hay chon mot muc\"))\n",
        "def kali(a,b):\n",
        "    x=-b/a\n",
        "    return x\n",
        "    print(x)\n",
        "\n",
        "def photpho(a,b,c):\n",
        "  if a!=0:\n",
        "    lamda = b**2-4*a*c\n",
        "    if lamda ==0:\n",
        "     x=-b/(2*a)\n",
        "     return x\n",
        "    if lamda<0:\n",
        "        print(\"phuong trinh vo nghiem\")\n",
        "    if lamda>0:\n",
        "      x1 =(-b + lamda)/ (2*a)\n",
        "      x2= (-b - lamda)/ (2*a)\n",
        "      return (x1,x2)\n",
        "if z == 1:\n",
        "  a = int(input(\"hay nhap a \"))\n",
        "  b = int(input(\"hay nhap b \"))\n",
        "kali(a,b)\n",
        "if z == 2:\n",
        "  a = int(input(\"hay nhap a \"))\n",
        "  b = int(input(\"hay nhap b \"))\n",
        "  c = int(input(\"hay nhap c \"))\n",
        "photpho(a,b,c)\n",
        "\n",
        "\n",
        "\n"
      ],
      "execution_count": 147,
      "outputs": [
        {
          "output_type": "stream",
          "name": "stdout",
          "text": [
            "hay chon mot muc2\n",
            "hay nhap a 1\n",
            "hay nhap b 4\n",
            "hay nhap c 5\n",
            "phuong trinh vo nghiem\n"
          ]
        }
      ]
    },
    {
      "cell_type": "code",
      "metadata": {
        "id": "E3KVW-PjYp6i"
      },
      "source": [
        "Viết chương trình thực hiện các yêu cầu sau:\n",
        "- Thực hiện yêu cầu như bài 6\n",
        "- Sau khi thực hiện xong cho người dùng lựa chọn tiếp tục thực hiện lại hay kết thúc chương\n",
        "trình"
      ],
      "execution_count": null,
      "outputs": []
    },
    {
      "cell_type": "code",
      "metadata": {
        "colab": {
          "base_uri": "https://localhost:8080/"
        },
        "id": "kVRE1woMYxHy",
        "outputId": "d3e975a6-c4b3-4be1-a218-08b6a5374187"
      },
      "source": [
        "import math\n",
        "z= int(input(\"hay chon mot muc\"))\n",
        "def kali(a,b):\n",
        "    x=-b/a\n",
        "    return x\n",
        "    print(x)\n",
        "\n",
        "def photpho(a,b,c):\n",
        "  if a!=0:\n",
        "    lamda = b**2-4*a*c\n",
        "    if lamda ==0:\n",
        "     x=-b/(2*a)\n",
        "     return x\n",
        "    if lamda<0:\n",
        "        print(\"phuong trinh vo nghiem\")\n",
        "    if lamda>0:\n",
        "      x1 =(-b + lamda)/ (2*a)\n",
        "      x2= (-b - lamda)/ (2*a)\n",
        "      return (x1,x2)\n",
        "\n",
        "if z == 1:\n",
        "  a = int(input(\"hay nhap a \"))\n",
        "  b = int(input(\"hay nhap b \"))\n",
        "kali(a,b)\n",
        "if z == 2:\n",
        "  a = int(input(\"hay nhap a \"))\n",
        "  b = int(input(\"hay nhap b \"))\n",
        "  c = int(input(\"hay nhap c \"))\n",
        "photpho(a,b,c)\n",
        "print(\"ban muon tiep tuc khong\")\n",
        "z= int(input(\"chon 1 de tiep tuc 2 de dung lai\"))\n",
        "if z == 1:\n",
        "  pass\n",
        "if z==2:\n",
        "  print(\"stop\")"
      ],
      "execution_count": 158,
      "outputs": [
        {
          "output_type": "stream",
          "name": "stdout",
          "text": [
            "hay chon mot muc2\n",
            "hay nhap a 1\n",
            "hay nhap b 4\n",
            "hay nhap c 6\n",
            "phuong trinh vo nghiem\n",
            "ban muon tiep tuc khong\n",
            "chon 1 de tiep tuc 2 de dung lai2\n",
            "stop\n"
          ]
        }
      ]
    }
  ]
}